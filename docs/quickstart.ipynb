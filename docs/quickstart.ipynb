{
 "cells": [
  {
   "cell_type": "code",
   "outputs": [],
   "source": [],
   "metadata": {
    "collapsed": false
   }
  },
  {
   "cell_type": "markdown",
   "metadata": {
    "collapsed": true,
    "pycharm": {
     "name": "#%% md\n"
    }
   },
   "source": [
    "```{eval-rst}\n",
    ".. role:: nge-mint-green\n",
    "```\n",
    "{nge-mint-green}`Quickstart`\n",
    "=======================\n",
    "\n",
    "1) Install [Anaconda](https://www.anaconda.com/)\n",
    "2) Perform the installation by copying and pasting the following comands into your *Anaconda Prompt* (Windows) or *Terminal* (Max/Linux)\n",
    "3) Create a new anaconda environment: `conda create -yn skoots python=3.10`\n",
    "4) Activate the anaconda environment: `conda activate skoots`\n",
    "\n",
    "```{admonition} <img alt=\"Warning\" src=\"../resources/warning2.png\" style=\"display: block; width: auto; height: 60px; margin-left: auto; margin-right: auto;\">\n",
    ":class: skoots-warning\n",
    "You will have to activate the skoots conda environment every time you re launch terminal!\n",
    "```\n",
    "\n",
    "5) Install pytorch for CPU ONLY: `conda install pytorch torchvision cpuonly -c pytorch`\n",
    "6) Install skoots and dependencies: `pip install skoots --upgrade`\n",
    "\n",
    "```{admonition} <img alt=\"Warning\" src=\"../resources/warning2.png\" style=\"display: block; width: auto; height: 60px; margin-left: auto; margin-right: auto;\">\n",
    ":class: skoots-warning\n",
    "It is strongly recommended you follow the installation guide for correct installation!\n",
    "```\n",
    "\n",
    "```{admonition} <img alt=\"Warning\" src=\"../resources/note.png\" style=\"display: block; width: auto; height: 60px; margin-left: auto; margin-right: auto;\">\n",
    ":class: skoots-note\n",
    "Follow the detailed installation guide to enable GPU acceleration.\n",
    "\n",
    "```\n",
    "\n",
    "Train a SKOOTS model:\n",
    "* Create a configuration file for training\n",
    "* Run in terminal: `skoots-train --config-file \"path/to/config/file.yaml\"`\n",
    "\n",
    "Evalulate a SKOOTS model:\n",
    "* Run in terminal: `skoots --pretrained-checkpoint \"model.trch\" --image \"image.tif\"`"
   ]
  },
  {
   "cell_type": "code",
   "execution_count": null,
   "outputs": [],
   "source": [],
   "metadata": {
    "collapsed": false,
    "pycharm": {
     "name": "#%%\n"
    }
   }
  }
 ],
 "metadata": {
  "kernelspec": {
   "display_name": "Python 3",
   "language": "python",
   "name": "python3"
  },
  "language_info": {
   "codemirror_mode": {
    "name": "ipython",
    "version": 2
   },
   "file_extension": ".py",
   "mimetype": "text/x-python",
   "name": "python",
   "nbconvert_exporter": "python",
   "pygments_lexer": "ipython2",
   "version": "2.7.6"
  }
 },
 "nbformat": 4,
 "nbformat_minor": 0
}
