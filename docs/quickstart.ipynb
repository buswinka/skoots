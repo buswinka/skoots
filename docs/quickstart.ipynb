{
 "cells": [
  {
   "cell_type": "markdown",
   "metadata": {
    "collapsed": true,
    "pycharm": {
     "name": "#%% md\n"
    }
   },
   "source": [
    "```{eval-rst}\n",
    ".. role:: nge-mint-green\n",
    "```\n",
    "{nge-mint-green}`Quickstart`\n",
    "=======================\n",
    "\n",
    "1) Install [Anaconda](https://www.anaconda.com/)\n",
    "2) Perform the installation by copying and pasting the following comands into your *Anaconda Prompt* (Windows) or *Terminal* (Max/Linux)\n",
    "3) Create a new anaconda environment: `conda create -yn skoots python=3.10`\n",
    "4) Activate the anaconda environment: `conda activate skoots`\n",
    "\n",
    "><img alt=\"Warning\" src=\"../resources/warning.png\" style=\"display: block; width: auto; height: 60px; margin-left: auto; margin-right: auto;\">\n",
    "> You will need to avtivate your conda environment every time you restart your prompt!\n",
    "\n",
    "5) Install pytorch for CPU ONLY: `conda install pytorch torchvision cpuonly -c pytorch`\n",
    "6) Install skoots and dependencies: `pip install skoots --upgrade`\n",
    "><img alt=\"Warning\" src=\"../resources/note.png\" style=\"display: block; width: auto; height: 60px; margin-left: auto; margin-right: auto;\">\n",
    "> It is strongly recommended you follow the installation guide for correct installation!\n",
    "\n",
    "><img alt=\"Warning\" src=\"../resources/note.png\" style=\"display: block; width: auto; height: 60px; margin-left: auto; margin-right: auto;\">\n",
    "> Follow the detailed installation guide for instructions on how to enable GPU acceleration\n",
    "\n",
    "Train a SKOOTS model:\n",
    "* Create a configuration file for training\n",
    "* Run in terminal: `skoots-train --config-file \"path/to/config/file.yaml\"`\n",
    "\n",
    "Evaludate a SKOOTS model:\n",
    "* Run in terminal: `skoots --pretrained-checkpoint \"model.trch\" --image \"image.tif\"`"
   ]
  },
  {
   "cell_type": "code",
   "execution_count": null,
   "outputs": [],
   "source": [],
   "metadata": {
    "collapsed": false,
    "pycharm": {
     "name": "#%%\n"
    }
   }
  }
 ],
 "metadata": {
  "kernelspec": {
   "display_name": "Python 3",
   "language": "python",
   "name": "python3"
  },
  "language_info": {
   "codemirror_mode": {
    "name": "ipython",
    "version": 2
   },
   "file_extension": ".py",
   "mimetype": "text/x-python",
   "name": "python",
   "nbconvert_exporter": "python",
   "pygments_lexer": "ipython2",
   "version": "2.7.6"
  }
 },
 "nbformat": 4,
 "nbformat_minor": 0
}