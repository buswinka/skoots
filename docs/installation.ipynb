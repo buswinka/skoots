{
 "cells": [
  {
   "cell_type": "markdown",
   "metadata": {
    "collapsed": true,
    "pycharm": {
     "name": "#%% md\n"
    }
   },
   "source": [
    "```{eval-rst}\n",
    ".. role:: nge-mint-green\n",
    "```\n",
    "{nge-mint-green}`Installation`\n",
    "==================================="
   ]
  },
  {
   "cell_type": "markdown",
   "source": [
    "## Requirements\n",
    "The following requirements are necessary to run `skoots`.\n",
    "\n",
    "* Pytorch >2.0.0\n",
    "* Torchvision 0.13.0\n",
    "* python 3.10\n",
    "* fastremap\n",
    "* numpy\n",
    "* zarr\n",
    "* scikit-image\n",
    "* yacs\n",
    "* numba\n",
    "\n",
    "## Detailed Installation\n",
    "To install hcat, ensure you that **Python Version 3.10** as well as all dependencies properly installed. It is recommended\n",
    "to use the [Anaconda](https://www.anaconda.com/) distribution of python with a dedicated environment. To do a recommended install,\n",
    "please use the following steps.\n",
    "\n",
    "1) Download the Anaconda distribution of python from the following link: [Anaconda](https://www.anaconda.com/). This will install\n",
    "python for you! There is **no need** to install python from an additional source.\n",
    "2) On Windows, launch the `Anaconda Prompt` application. On Mac or Linux launch a new `terminal`. If installed correctly you\n",
    "should see `(base)` to the left of your terminal input. This is your anaconda `environemnt`.\n",
    "3) To avoid dependency issues, we will create a new environment to install skoots. This acts like an isolated sandbox where\n",
    "we can install specific `versions` of necessary software. To do this, in the prompt, type `conda create -n skoots python=3.10` and type `y` when asked.\n",
    "This creates an environment to install our software. We must now activate this environment to\n",
    "access our isolated sandbox and install `skoots`.\n",
    "4) To activate our environment, type in the terminal `conda activate skoots`. Notice how `(base)` has been replaced with `(skoots)`.\n",
    "5) To run hcat we first need to install `pytorch`, a deep learning library. To do this, follow the instructions on the\n",
    "[Pytorch](https://pytorch.org/get-started/locally/) website for your particular system. It is recommended to use these install settings:\n",
    "\n",
    "| Setting          | Selection                                                |\n",
    "|------------------|----------------------------------------------------------|\n",
    "| PyTorch Build    | Stable (2.0.0)                                           |\n",
    "| Your OS          | Linux/Mac/Windows                                        |\n",
    "| Package          | Conda                                                    |\n",
    "| Language         | Python                                                   |\n",
    "| Compute Platform | CUDA 11.7 (If you have an Nvidia GPU, otherwise use CPU) |\n",
    "\n",
    "This will create a command to run in the prompt. With these settings, this might look like: `conda install pytorch torchvision torchaudio cudatoolkit=11.7 -c pytorch`.\n",
    "This may take a while.\n",
    "\n",
    "><img alt=\"Warning\" src=\"../../resources/note.png\" style=\"display: block; width: auto; height: 60px; margin-left: auto; margin-right: auto;\">\n",
    "> Installing pytorch with pip can cause issues in some systems. To ensure GPU capabilities and\n",
    "> prevent errors, please install with the package manager `Conda`.\n",
    "\n",
    "6) Once we've installed pytorch, we can use the command line to install `skoots`. To do this, type `pip install skoots --upgrade`. This command will install all remaining libraries necessary to run the software into our protected sandbox environment. This means that the software can only be\n",
    "called from the hcat environment.\n",
    "\n",
    "7) If the installation finishes with no errors, we can now access `skoots` via the command line interface!\n",
    "\n",
    "><img alt=\"Warning\" src=\"../../resources/warning.png\" style=\"display: block; width: auto; height: 60px; margin-left: auto; margin-right: auto;\">\n",
    "> You will need to avtivate your conda environment every time you restart your prompt!\n"
   ],
   "metadata": {
    "collapsed": false,
    "pycharm": {
     "name": "#%% md\n"
    }
   }
  }
 ],
 "metadata": {
  "kernelspec": {
   "display_name": "Python 3",
   "language": "python",
   "name": "python3"
  },
  "language_info": {
   "codemirror_mode": {
    "name": "ipython",
    "version": 2
   },
   "file_extension": ".py",
   "mimetype": "text/x-python",
   "name": "python",
   "nbconvert_exporter": "python",
   "pygments_lexer": "ipython2",
   "version": "2.7.6"
  }
 },
 "nbformat": 4,
 "nbformat_minor": 0
}