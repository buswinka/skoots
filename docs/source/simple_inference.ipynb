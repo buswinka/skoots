{
 "cells": [
  {
   "cell_type": "markdown",
   "metadata": {
    "collapsed": true,
    "pycharm": {
     "name": "#%% md\n"
    }
   },
   "source": [
    "```{eval-rst}\n",
    ".. role:: nge-green\n",
    "```\n",
    "{nge-green}`Inference with SKOOTS`\n",
    "==================================="
   ]
  },
  {
   "cell_type": "markdown",
   "source": [
    "## Inference in the CLI\n",
    "SKOOTS can be used to segment on a new image using the command line interface. With an image in mind, and a pretrained model file, simply write into the command line:\n",
    "```\n",
    "skoots --pretrained_checkpoint \"my_model.trch\" --image \"my_new_image.tiff\"\n",
    "```"
   ],
   "metadata": {
    "collapsed": false,
    "pycharm": {
     "name": "#%% md\n"
    }
   }
  },
  {
   "cell_type": "markdown",
   "source": [
    "This calls into ```skoots.__main__.py``` to parse arguments and ultimated, inference is performed by the ```eval()``` function in ```skoots.lib.eval.py```.\n",
    "\n",
    "## Convert Outputs\n",
    "By default, SKOOTS will save all intermediary outputs (vectors and skeletons) as well as the segmentation mask in the zarr file format in the same location as the original image. To convert these files to a tiff, use the helper utility ```--convert``` to convert all files to tif in the folder.\n",
    "\n",
    "```\n",
    "skoots --convert *\n",
    "```"
   ],
   "metadata": {
    "collapsed": false,
    "pycharm": {
     "name": "#%% md\n"
    }
   }
  }
 ],
 "metadata": {
  "kernelspec": {
   "display_name": "Python 3",
   "language": "python",
   "name": "python3"
  },
  "language_info": {
   "codemirror_mode": {
    "name": "ipython",
    "version": 2
   },
   "file_extension": ".py",
   "mimetype": "text/x-python",
   "name": "python",
   "nbconvert_exporter": "python",
   "pygments_lexer": "ipython2",
   "version": "2.7.6"
  }
 },
 "nbformat": 4,
 "nbformat_minor": 0
}