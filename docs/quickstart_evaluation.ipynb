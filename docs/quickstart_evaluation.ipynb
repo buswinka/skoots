{
 "cells": [
  {
   "cell_type": "markdown",
   "metadata": {
    "collapsed": true,
    "pycharm": {
     "name": "#%% md\n"
    }
   },
   "source": [
    "```{eval-rst}\n",
    ".. role:: nge-mint-green\n",
    "```\n",
    "{nge-mint-green}`Inference`\n",
    "==================================="
   ]
  },
  {
   "cell_type": "markdown",
   "source": [
    "### Model File\n",
    "SKOOTS needs a pretrained model file to run inference on a new image. This should be generated at the conclusion of training, and has the extension `*.trch`. This file contains both the model weight, but also any configuration options the necessary for inference.\n",
    "\n",
    "\n",
    "### Evaluate a SKOOTS model\n",
    "We evaluate a trained model file `my_model.trch` on image `new_image.tif` by typing in the terminal:\n",
    "```bash\n",
    "skoots --pretrained-checkpoint \"my_model.trch\" --image \"new_image.tif\"\n",
    "```\n",
    "\n",
    "The output and intermediary files will be saved in the same location as `new_image.tif`. To convert any zarr outputs to tif, run the following command:\n",
    "\n",
    "```bash\n",
    "skoots --convert *\n",
    "```"
   ],
   "metadata": {
    "collapsed": false,
    "pycharm": {
     "name": "#%% md\n"
    }
   }
  }
 ],
 "metadata": {
  "kernelspec": {
   "display_name": "Python 3",
   "language": "python",
   "name": "python3"
  },
  "language_info": {
   "codemirror_mode": {
    "name": "ipython",
    "version": 2
   },
   "file_extension": ".py",
   "mimetype": "text/x-python",
   "name": "python",
   "nbconvert_exporter": "python",
   "pygments_lexer": "ipython2",
   "version": "2.7.6"
  }
 },
 "nbformat": 4,
 "nbformat_minor": 0
}