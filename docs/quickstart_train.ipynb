{
 "cells": [
  {
   "cell_type": "markdown",
   "metadata": {
    "collapsed": true,
    "pycharm": {
     "name": "#%% md\n"
    }
   },
   "source": [
    "```{eval-rst}\n",
    ".. role:: nge-mint-green\n",
    "```\n",
    "{nge-mint-green}`Train`\n",
    "==================================="
   ]
  },
  {
   "cell_type": "markdown",
   "source": [
    "### Data Preparation\n",
    "SKOOTS requires specific file naming conventions to locate training data. An annotated image `train_data.tif` should have associated ground truth instance segmentation mask labels  `train_data.labels.tif` and precomputed skeletons `train_data.skeletons.tif`. Therefore, a data directory might have the following files:\n",
    "\n",
    "```\n",
    "data\\\n",
    " ├  train\\\n",
    " │    │ train_data.tif\n",
    " │    │ train_data.labels.tif\n",
    " │    └ train_data.skeletons.tif\n",
    " └  validation\\\n",
    "      │ val_data.tif\n",
    "      │ val_data.labels.tif\n",
    "      └ val_data.skeletons.tif\n",
    "```\n",
    "\n",
    "To pre-compute skeletons, cd into the train data directory and use the utility function in the skoots cli:\n",
    "\n",
    "```bash\n",
    "skoots --skeletonize-train-data *\n",
    "```\n",
    "\n",
    "### Configuration File\n",
    "SKOOTS needs various pieces of information to train a model: where your training data is located, how big are your objects, and others. We set these parameters in a configuration file: `my-config.yaml`. An example might look like this:\n",
    "\n",
    "```yaml\n",
    "TRAIN:\n",
    "  TRAIN_DATA_DIR: ['path/to/train/data']  # set your own here!\n",
    "  VALIDATION_DATA_DIR: ['path/to/validation/data']\n",
    "  NUM_EPOCHS: 100\n",
    "  LEARNING_RATE: 1e-3\n",
    "\n",
    "SKOOTS:\n",
    "  VECTOR_SCALING: (50, 50, 10)  # max radius of objects in (X, Y, Z)\n",
    "```\n",
    "\n",
    "### Train with the CLI\n",
    "There are a lot more configuration options - see the Training Tutorial for more information on configuration. We may now train a SKOOTS model by typing in the terminal:\n",
    "```bash\n",
    "skoots-train --config-file \"my-config.yaml\"\n",
    "```\n",
    "\n",
    "```{admonition} <img alt=\"Warning\" src=\"../resources/note.png\" style=\"display: block; width: auto; height: 60px; margin-left: auto; margin-right: auto;\">\n",
    ":class: skoots-note\n",
    "This will let the SKOOTS training script run, but will likely not produce a usable model. See the Training Tutorial for more details on creating a custom configuration file.\n",
    "```\n",
    "\n",
    "### Monitoring\n",
    "\n",
    "SKOOTS uses tensorboard to track training, which will automatically be served to ```http://localhost:6006```\n"
   ],
   "metadata": {
    "collapsed": false,
    "pycharm": {
     "name": "#%% md\n"
    }
   }
  }
 ],
 "metadata": {
  "kernelspec": {
   "display_name": "Python 3",
   "language": "python",
   "name": "python3"
  },
  "language_info": {
   "codemirror_mode": {
    "name": "ipython",
    "version": 2
   },
   "file_extension": ".py",
   "mimetype": "text/x-python",
   "name": "python",
   "nbconvert_exporter": "python",
   "pygments_lexer": "ipython2",
   "version": "2.7.6"
  }
 },
 "nbformat": 4,
 "nbformat_minor": 0
}
